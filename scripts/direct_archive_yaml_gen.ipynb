{
 "cells": [
  {
   "cell_type": "code",
   "execution_count": 1,
   "metadata": {
    "collapsed": true,
    "ExecuteTime": {
     "end_time": "2023-07-05T09:03:01.397104357Z",
     "start_time": "2023-07-05T09:03:01.394156094Z"
    }
   },
   "outputs": [],
   "source": [
    "import yaml"
   ]
  },
  {
   "cell_type": "code",
   "execution_count": 2,
   "outputs": [],
   "source": [
    "inventory = {}\n",
    "for spacecraft in ['a', 'b', 'c', 'd', 'e']:\n",
    "    for dataset in ['efi', 'esa', 'esd', 'fbk', 'fft', 'fgm', 'fit', 'gmom', 'mom', 'scm', 'sst']:\n",
    "        inventory[f'th{spacecraft}_{dataset}'] = {\n",
    "            'url_pattern': f'http://cdpp.irap.omp.eu/themisdata/th{spacecraft}/l2/{dataset}/{{Y}}/th{spacecraft}_l2_{dataset}_{{Y}}{{M:02d}}{{D:02d}}_v\\\\d+.cdf',\n",
    "            'use_file_list': True,\n",
    "            'master_cdf': f\"http://cdpp.irap.omp.eu/themisdata/th{spacecraft}/l2/{dataset}/0000/th{spacecraft}_l2_{dataset}_00000000_v01.cdf\",\n",
    "            'inventory_path': f'cdpp/THEMIS/TH{spacecraft.upper()}/L2',\n",
    "            'split_rule': \"regular\",\n",
    "            'split_frequency': \"daily\"\n",
    "        }\n",
    "\n",
    "with open('../speasy/data/archive/themis_cdpp.yaml', 'w') as inv_f:\n",
    "    yaml.dump(inventory, inv_f)\n",
    "\n"
   ],
   "metadata": {
    "collapsed": false,
    "ExecuteTime": {
     "end_time": "2023-07-05T09:03:01.397594296Z",
     "start_time": "2023-07-05T09:03:01.396060568Z"
    }
   }
  }
 ],
 "metadata": {
  "kernelspec": {
   "display_name": "Python 3",
   "language": "python",
   "name": "python3"
  },
  "language_info": {
   "codemirror_mode": {
    "name": "ipython",
    "version": 2
   },
   "file_extension": ".py",
   "mimetype": "text/x-python",
   "name": "python",
   "nbconvert_exporter": "python",
   "pygments_lexer": "ipython2",
   "version": "2.7.6"
  }
 },
 "nbformat": 4,
 "nbformat_minor": 0
}
