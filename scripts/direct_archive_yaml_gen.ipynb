{
 "cells": [
  {
   "cell_type": "code",
   "execution_count": 1,
   "metadata": {
    "ExecuteTime": {
     "end_time": "2023-07-05T09:03:01.397104357Z",
     "start_time": "2023-07-05T09:03:01.394156094Z"
    }
   },
   "outputs": [],
   "source": [
    "import yaml"
   ]
  },
  {
   "cell_type": "code",
   "execution_count": 2,
   "metadata": {
    "ExecuteTime": {
     "end_time": "2023-07-05T09:03:01.397594296Z",
     "start_time": "2023-07-05T09:03:01.396060568Z"
    },
    "collapsed": false,
    "jupyter": {
     "outputs_hidden": false
    }
   },
   "outputs": [],
   "source": [
    "inventory = {}\n",
    "for spacecraft in ['a', 'b', 'c', 'd', 'e']:\n",
    "    for dataset in ['efi', 'esa', 'esd', 'fbk', 'fft', 'fgm', 'fit', 'gmom', 'mom', 'scm', 'sst']:\n",
    "        inventory[f'th{spacecraft}_{dataset}'] = {\n",
    "            'url_pattern': f'http://cdpp.irap.omp.eu/themisdata/th{spacecraft}/l2/{dataset}/{{Y}}/th{spacecraft}_l2_{dataset}_{{Y}}{{M:02d}}{{D:02d}}_v\\\\d+.cdf',\n",
    "            'use_file_list': True,\n",
    "            'master_cdf': f\"http://cdpp.irap.omp.eu/themisdata/th{spacecraft}/l2/{dataset}/0000/th{spacecraft}_l2_{dataset}_00000000_v01.cdf\",\n",
    "            'inventory_path': f'cdpp/THEMIS/TH{spacecraft.upper()}/L2',\n",
    "            'split_rule': \"regular\",\n",
    "            'split_frequency': \"daily\"\n",
    "        }\n",
    "\n",
    "with open('../speasy/data/archive/themis_cdpp.yaml', 'w') as inv_f:\n",
    "    yaml.dump(inventory, inv_f)\n",
    "\n"
   ]
  },
  {
   "cell_type": "code",
   "execution_count": 3,
   "metadata": {},
   "outputs": [],
   "source": [
    "inventory = {}\n",
    "\n",
    "inventory['erg_lepe_l3_pa'] = {\n",
    "            'url_pattern': 'https://cdaweb.gsfc.nasa.gov/pub/data/arase/lepe/l3/pa/{Y}/erg_lepe_l3_pa_{Y}{M:02d}{D:02d}_v\\\\d+_\\\\d+.cdf',\n",
    "            'use_file_list': True,\n",
    "            'master_cdf': \"https://cdaweb.gsfc.nasa.gov/pub/software/cdawlib/0MASTERS/erg_lepe_l3_pa_00000000_v01.cdf\",\n",
    "            'inventory_path': 'cda/Arase_ERG/LEPE',\n",
    "            'split_rule': \"regular\"\n",
    "        }\n",
    "\n",
    "inventory['erg_pwe_hfa_l3_1min'] = {\n",
    "            'url_pattern': 'https://cdaweb.gsfc.nasa.gov/pub/data/arase/pwe/hfa/l3_1min/{Y}/erg_pwe_hfa_l3_1min_{Y}{M:02d}{D:02d}_v\\\\d+_\\\\d+.cdf',\n",
    "            'use_file_list': True,\n",
    "            'master_cdf': \"https://cdaweb.gsfc.nasa.gov/pub/software/cdawlib/0MASTERS/erg_pwe_hfa_l3_1min_00000000_v01.cdf\",\n",
    "            'inventory_path': 'cda/Arase_ERG/PWE/HFA',\n",
    "            'split_rule': \"regular\"\n",
    "        }\n",
    "\n",
    "for spacecraft in range(1,5):\n",
    "    for mode,MODE in (('fast','FAST'), ('brst','BURST')):\n",
    "        inventory[f'mms{spacecraft}_fpi_{mode}_l2_des_moms'] = {\n",
    "            'url_pattern': f'https://cdaweb.gsfc.nasa.gov/pub/data/mms/mms{spacecraft}/fpi/{mode}/l2/des-moms/{{Y}}/{{M:02d}}/mms{spacecraft}_fpi_{mode}_l2_des-moms_{{Y}}{{M:02d}}\\\\d+_v\\\\d+.\\\\d+.\\\\d+.cdf',\n",
    "            'use_file_list': True,\n",
    "            'master_cdf': f\"https://cdaweb.gsfc.nasa.gov/pub/software/cdawlib/0MASTERS/mms{spacecraft}_fpi_{mode}_l2_des-moms_00000000_v01.cdf\",\n",
    "            'inventory_path': f'cda/MMS/MMS{spacecraft}/FPI/{MODE}/MOMS',\n",
    "            'split_rule': \"random\",\n",
    "            'split_frequency': \"monthly\",\n",
    "            'fname_regex': f'mms{spacecraft}_fpi_{mode}_l2_des-moms_(?P<start>\\\\d+)_v(?P<version>[\\\\d\\\\.]+)\\\\.cdf'\n",
    "        }\n",
    "\n",
    "    inventory[f'mms{spacecraft}_fgm_srvy_l2'] = {\n",
    "        'url_pattern': f'https://cdaweb.gsfc.nasa.gov/pub/data/mms/mms{spacecraft}/fgm/srvy/l2/{{Y}}/{{M:02d}}/mms{spacecraft}_fgm_srvy_l2_{{Y}}{{M:02d}}{{D:02d}}_v\\\\d+.\\\\d+.\\\\d+.cdf',\n",
    "        'use_file_list': True,\n",
    "        'master_cdf': f\"https://cdaweb.gsfc.nasa.gov/pub/software/cdawlib/0MASTERS/mms{spacecraft}_fgm_srvy_l2_00000000_v01.cdf\",\n",
    "        'inventory_path': f'cda/MMS/MMS{spacecraft}/FGM/SRVY',\n",
    "        'split_rule': \"regular\"\n",
    "    }\n",
    "\n",
    "\n",
    "with open('../speasy/data/archive/cda.yaml', 'w') as inv_f:\n",
    "    yaml.dump(inventory, inv_f)"
   ]
  },
  {
   "cell_type": "code",
   "execution_count": null,
   "metadata": {},
   "outputs": [],
   "source": []
  }
 ],
 "metadata": {
  "kernelspec": {
   "display_name": "Python 3 (ipykernel)",
   "language": "python",
   "name": "python3"
  },
  "language_info": {
   "codemirror_mode": {
    "name": "ipython",
    "version": 3
   },
   "file_extension": ".py",
   "mimetype": "text/x-python",
   "name": "python",
   "nbconvert_exporter": "python",
   "pygments_lexer": "ipython3",
   "version": "3.12.0"
  },
  "widgets": {
   "application/vnd.jupyter.widget-state+json": {
    "state": {},
    "version_major": 2,
    "version_minor": 0
   }
  }
 },
 "nbformat": 4,
 "nbformat_minor": 4
}
