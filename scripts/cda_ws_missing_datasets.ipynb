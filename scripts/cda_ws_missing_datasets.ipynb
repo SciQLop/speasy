{
 "cells": [
  {
   "cell_type": "code",
   "id": "initial_id",
   "metadata": {
    "collapsed": true,
    "ExecuteTime": {
     "end_time": "2024-05-02T15:13:11.936645Z",
     "start_time": "2024-05-02T15:13:11.933717Z"
    }
   },
   "source": [
    "import speasy as spz\n",
    "from speasy.core.any_files import list_files\n",
    "import yaml"
   ],
   "outputs": [],
   "execution_count": 16
  },
  {
   "metadata": {
    "ExecuteTime": {
     "end_time": "2024-05-02T15:10:09.874340Z",
     "start_time": "2024-05-02T15:10:09.870085Z"
    }
   },
   "cell_type": "code",
   "source": "cda_ws_datasets = set([d.mastercdf.split('/')[-1] for d in spz.inventories.flat_inventories.cda.datasets.values()])",
   "id": "4a6c60ee486c801e",
   "outputs": [],
   "execution_count": 4
  },
  {
   "metadata": {
    "ExecuteTime": {
     "end_time": "2024-05-02T15:10:09.910246Z",
     "start_time": "2024-05-02T15:10:09.874839Z"
    }
   },
   "cell_type": "code",
   "source": [
    "available_datasets = set(\n",
    "    list_files(file_regex='.*.cdf', url=\"https://cdaweb.gsfc.nasa.gov/pub/software/cdawlib/0MASTERS/\"))"
   ],
   "id": "9a551379ebfac444",
   "outputs": [],
   "execution_count": 5
  },
  {
   "metadata": {
    "ExecuteTime": {
     "end_time": "2024-05-02T15:10:09.947732Z",
     "start_time": "2024-05-02T15:10:09.911168Z"
    }
   },
   "cell_type": "code",
   "source": "missing_datasets = list(available_datasets - cda_ws_datasets)",
   "id": "fa48315d1f814128",
   "outputs": [],
   "execution_count": 6
  },
  {
   "metadata": {
    "ExecuteTime": {
     "end_time": "2024-05-02T15:10:09.978429Z",
     "start_time": "2024-05-02T15:10:09.950477Z"
    }
   },
   "cell_type": "code",
   "source": "len(available_datasets), len(cda_ws_datasets), len(missing_datasets)",
   "id": "bd30c2d0b74af202",
   "outputs": [
    {
     "data": {
      "text/plain": [
       "(4111, 2685, 1426)"
      ]
     },
     "execution_count": 7,
     "metadata": {},
     "output_type": "execute_result"
    }
   ],
   "execution_count": 7
  },
  {
   "metadata": {
    "ExecuteTime": {
     "end_time": "2024-05-02T15:14:31.997002Z",
     "start_time": "2024-05-02T15:14:31.993134Z"
    }
   },
   "cell_type": "code",
   "source": "missing_datasets_above_l1 = list(filter(lambda x: '_l1' not in x and 'r0' not in x, missing_datasets))",
   "id": "e00f9659cc8e948",
   "outputs": [],
   "execution_count": 19
  },
  {
   "metadata": {
    "ExecuteTime": {
     "end_time": "2024-05-02T15:14:33.105018Z",
     "start_time": "2024-05-02T15:14:33.101720Z"
    }
   },
   "cell_type": "code",
   "source": "mms = list(filter(lambda x: x.startswith('mms'), missing_datasets_above_l1))",
   "id": "e866292761ddd94d",
   "outputs": [],
   "execution_count": 20
  },
  {
   "metadata": {
    "ExecuteTime": {
     "end_time": "2024-05-02T15:14:33.690314Z",
     "start_time": "2024-05-02T15:14:33.685263Z"
    }
   },
   "cell_type": "code",
   "source": "mms",
   "id": "6c20a3a07f7a90e8",
   "outputs": [
    {
     "data": {
      "text/plain": [
       "['mms1_edi_srvy_l2_amb-perp-ob_00000000_v01.cdf',\n",
       " 'mms2_fpi_fast_l2_des-distaux_00000000_v01.cdf',\n",
       " 'mms1_edi_srvy_l2_amb-alt-oob_00000000_v01.cdf',\n",
       " 'mms2_edi_srvy_l2_amb-perp-ob_00000000_v01.cdf',\n",
       " 'mms2_edi_srvy_l2_amb-alt-cc_00000000_v01.cdf',\n",
       " 'mms4_edi_srvy_l2_amb-perp-ob_00000000_v01.cdf',\n",
       " 'mms4_edi_brst_l2_amb-alt-oob_00000000_v01.cdf',\n",
       " 'mms3_fpi_fast_l2_des-momsaux_00000000_v01.cdf',\n",
       " 'mms1_feeps_raw_l2_ion_00000000_v01.cdf',\n",
       " 'mms2_edi_srvy_l2_amb-alt-oob_00000000_v01.cdf',\n",
       " 'mms3_hpca_brst_l2_tof-counts_00000000_v01.cdf',\n",
       " 'mms3_fpi_fast_l2_dis-momsaux_00000000_v01.cdf',\n",
       " 'mms1_fpi_fast_l2_des-distaux_00000000_v01.cdf',\n",
       " 'mms1_fsm_brst_l3_8khz_00000000_v01.cdf',\n",
       " 'mms1_edi_srvy_l2_amb-alt-oc_00000000_v01.cdf',\n",
       " 'mms3_feeps_raw_l2_ion_00000000_v01.cdf',\n",
       " 'mms1_fpi_fast_l2_dis-momsaux_00000000_v01.cdf',\n",
       " 'mms4_edi_srvy_l2_amb-alt-oob_00000000_v01.cdf',\n",
       " 'mms3_edi_srvy_l2_amb-alt-oob_00000000_v01.cdf',\n",
       " 'mms4_fpi_fast_l2_dis-momsaux_00000000_v01.cdf',\n",
       " 'mms1_fpi_brst_l2_des-momsaux_00000000_v01.cdf',\n",
       " 'mms2_feeps_raw_l2_electron_00000000_v01.cdf',\n",
       " 'mms4_fpi_fast_l2_des-momsaux_00000000_v01.cdf',\n",
       " 'mms1_edi_brst_l2_amb-alt-oob_00000000_v01.cdf',\n",
       " 'mms4_edi_brst_l2_amb-perp-ob_00000000_v01.cdf',\n",
       " 'mms2_edi_brst_l2_amb-alt-oob_00000000_v01.cdf',\n",
       " 'mms3_edi_brst_l2_amb-alt-oob_00000000_v01.cdf',\n",
       " 'mms4_feeps_raw_l2_electron_00000000_v01.cdf',\n",
       " 'mms1_fpi_brst_l2_dis-momsaux_00000000_v01.cdf',\n",
       " 'mms4_edi_srvy_l2_amb-alt-oc_00000000_v01.cdf',\n",
       " 'mms3_fpi_brst_l2_dis-momsaux_00000000_v01.cdf',\n",
       " 'mms1_hpca_brst_l2_tof-counts_00000000_v01.cdf',\n",
       " 'mms4_hpca_brst_l2_tof-counts_00000000_v01.cdf',\n",
       " 'mms2_fpi_fast_l2_des-momsaux_00000000_v01.cdf',\n",
       " 'mms4_fpi_brst_l2_des-distaux_00000000_v01.cdf',\n",
       " 'mms3_edi_srvy_l2_amb-alt-oc_00000000_v01.cdf',\n",
       " 'mms3_edi_brst_l2_amb-perp-ob_00000000_v01.cdf',\n",
       " 'mms3_feeps_raw_l2_electron_00000000_v01.cdf',\n",
       " 'mms2_fpi_brst_l2_dis-momsaux_00000000_v01.cdf',\n",
       " 'mms2_fpi_brst_l2_des-momsaux_00000000_v01.cdf',\n",
       " 'mms1_fpi_fast_l2_des-momsaux_00000000_v01.cdf',\n",
       " 'mms3_fpi_brst_l2_des-distaux_00000000_v01.cdf',\n",
       " 'mms1_fpi_brst_l2_des-distaux_00000000_v01.cdf',\n",
       " 'mms3_edi_srvy_l2_amb-alt-cc_00000000_v01.cdf',\n",
       " 'mms2_feeps_raw_l2_ion_00000000_v01.cdf',\n",
       " 'mms4_fpi_brst_l2_des-momsaux_00000000_v01.cdf',\n",
       " 'mms4_fpi_fast_l2_des-distaux_00000000_v01.cdf',\n",
       " 'mms2_hpca_brst_l2_tof-counts_00000000_v01.cdf',\n",
       " 'mms3_epd-eis_brst_l2_partenergy_00000000_v01.cdf',\n",
       " 'mms3_fpi_brst_l2_des-momsaux_00000000_v01.cdf',\n",
       " 'mms4_fpi_brst_l2_dis-momsaux_00000000_v01.cdf',\n",
       " 'mms1_edi_brst_l2_amb-perp-ob_00000000_v01.cdf',\n",
       " 'mms1_epd-eis_brst_l2_partenergy_00000000_v01.cdf',\n",
       " 'mms1_asp_srvy_l2_00000000_v01.cdf',\n",
       " 'mms1_dsp_fast_l2_swd_00000000_v01.cdf',\n",
       " 'mms2_edi_srvy_l2_amb-alt-oc_00000000_v01.cdf',\n",
       " 'mms3_edi_srvy_l2_amb-perp-ob_00000000_v01.cdf',\n",
       " 'mms1_edi_srvy_l2_amb-alt-cc_00000000_v01.cdf',\n",
       " 'mms2_fpi_fast_l2_dis-momsaux_00000000_v01.cdf',\n",
       " 'mms4_feeps_raw_l2_ion_00000000_v01.cdf',\n",
       " 'mms4_edi_srvy_l2_amb-alt-cc_00000000_v01.cdf',\n",
       " 'mms3_fpi_fast_l2_des-distaux_00000000_v01.cdf',\n",
       " 'mms2_fpi_brst_l2_des-distaux_00000000_v01.cdf',\n",
       " 'mms2_edi_brst_l2_amb-perp-ob_00000000_v01.cdf',\n",
       " 'mms1_feeps_raw_l2_electron_00000000_v01.cdf']"
      ]
     },
     "execution_count": 21,
     "metadata": {},
     "output_type": "execute_result"
    }
   ],
   "execution_count": 21
  },
  {
   "metadata": {
    "ExecuteTime": {
     "end_time": "2024-05-02T15:22:33.977674Z",
     "start_time": "2024-05-02T15:22:33.970512Z"
    }
   },
   "cell_type": "code",
   "source": [
    "def make_inventory_entry(master_cdf, mission):\n",
    "    parts = master_cdf.split('_')\n",
    "    spacecraft = parts[0]\n",
    "    instrument = parts[1]\n",
    "    mode = parts[2]\n",
    "    level = parts[3]\n",
    "    cdf_name = '_'.join(parts[:-2])\n",
    "    node = cdf_name.replace('-', '_')\n",
    "    path = 'cda/' + f'{mission}/{spacecraft}/{instrument}/{mode}'.upper()\n",
    "    if mode.lower() == 'brst':\n",
    "        return node, {\n",
    "            'url_pattern': f'https://cdaweb.gsfc.nasa.gov/pub/data/{mission}/{spacecraft}/{instrument}/{mode}/{level}/{{Y}}/{{M:02d}}/{cdf_name}_{{Y}}{{M:02d}}{{D:02d}}_v\\\\d+.\\\\d+.\\\\d+.cdf',\n",
    "            'use_file_list': True,\n",
    "            'master_cdf': f\"https://cdaweb.gsfc.nasa.gov/pub/software/cdawlib/0MASTERS/{master_cdf}\",\n",
    "            'inventory_path': path,\n",
    "            'split_rule': \"random\",\n",
    "            'split_frequency': \"monthly\",\n",
    "            'fname_regex': f'{cdf_name}_(?P<start>\\\\d+)_v(?P<version>[\\\\d\\\\.]+)\\\\.cdf'\n",
    "        }\n",
    "    else:\n",
    "        return node, {\n",
    "            'url_pattern': f'https://cdaweb.gsfc.nasa.gov/pub/data/{mission}/{spacecraft}/{instrument}/{mode}/{level}/{{Y}}/{{M:02d}}/{cdf_name}_{{Y}}{{M:02d}}{{D:02d}}_v\\\\d+.\\\\d+.\\\\d+.cdf',\n",
    "            'use_file_list': True,\n",
    "            'master_cdf': f\"https://cdaweb.gsfc.nasa.gov/pub/software/cdawlib/0MASTERS/{master_cdf}\",\n",
    "            'inventory_path': path,\n",
    "            'split_rule': \"regular\"\n",
    "        }"
   ],
   "id": "c3038b124cf84bc2",
   "outputs": [],
   "execution_count": 26
  },
  {
   "metadata": {
    "ExecuteTime": {
     "end_time": "2024-05-02T15:22:35.248535Z",
     "start_time": "2024-05-02T15:22:35.228642Z"
    }
   },
   "cell_type": "code",
   "source": [
    "mms_inv = dict(map(lambda x: make_inventory_entry(x, 'mms'), mms))\n",
    "\n",
    "with open('../speasy/data/archive/cda_2.yaml', 'w') as inv_f:\n",
    "    yaml.dump(mms_inv, inv_f)"
   ],
   "id": "a87c497f12d3be9f",
   "outputs": [],
   "execution_count": 27
  },
  {
   "metadata": {
    "ExecuteTime": {
     "end_time": "2024-05-02T14:45:48.417888Z",
     "start_time": "2024-05-02T14:45:48.411867Z"
    }
   },
   "cell_type": "code",
   "source": "f = list(map(lambda x: x.split('_'), missing_datasets_above_l1))",
   "id": "2327f8788f5091c8",
   "outputs": [],
   "execution_count": 11
  },
  {
   "metadata": {
    "ExecuteTime": {
     "end_time": "2024-05-02T14:45:49.049471Z",
     "start_time": "2024-05-02T14:45:49.040226Z"
    }
   },
   "cell_type": "code",
   "source": "set(map(lambda x: x[0], f))",
   "id": "e346397bde10401e",
   "outputs": [
    {
     "data": {
      "text/plain": [
       "{'a2',\n",
       " 'ac',\n",
       " 'aimp2',\n",
       " 'alouette1',\n",
       " 'alouette2',\n",
       " 'altt2',\n",
       " 'apollo11',\n",
       " 'apollo12',\n",
       " 'apollo14',\n",
       " 'apollo15',\n",
       " 'apollo16',\n",
       " 'bar',\n",
       " 'c1',\n",
       " 'c2',\n",
       " 'c3',\n",
       " 'c4',\n",
       " 'cc',\n",
       " 'ccswe',\n",
       " 'cips',\n",
       " 'cl',\n",
       " 'cnofs',\n",
       " 'd1',\n",
       " 'de-2',\n",
       " 'de1',\n",
       " 'de2',\n",
       " 'dmsp',\n",
       " 'dmsp-f06',\n",
       " 'dmsp-f07',\n",
       " 'dmsp-f08',\n",
       " 'dmsp-f09',\n",
       " 'dmsp-f12',\n",
       " 'dmsp-f14',\n",
       " 'dmsp-f15',\n",
       " 'dmsp-f16',\n",
       " 'dmsp-f17',\n",
       " 'dmsp-f18',\n",
       " 'dmspf16',\n",
       " 'dmspf17',\n",
       " 'dmspf18',\n",
       " 'endurance',\n",
       " 'eq',\n",
       " 'erg',\n",
       " 'exp35',\n",
       " 'fa',\n",
       " 'fast',\n",
       " 'formosat2',\n",
       " 'formosat5',\n",
       " 'g0',\n",
       " 'g12',\n",
       " 'g5',\n",
       " 'g6',\n",
       " 'galileo',\n",
       " 'gb',\n",
       " 'ge',\n",
       " 'gm',\n",
       " 'goes12',\n",
       " 'goes15',\n",
       " 'gold',\n",
       " 'gps',\n",
       " 'hawkeye',\n",
       " 'hel1',\n",
       " 'helios1',\n",
       " 'helios2',\n",
       " 'i1',\n",
       " 'i2',\n",
       " 'i7',\n",
       " 'i8',\n",
       " 'ibex',\n",
       " 'ij',\n",
       " 'im',\n",
       " 'image',\n",
       " 'ir',\n",
       " 'isee-3-return',\n",
       " 'isee1',\n",
       " 'isee2',\n",
       " 'iss',\n",
       " 'it',\n",
       " 'l0',\n",
       " 'l1',\n",
       " 'l4',\n",
       " 'map',\n",
       " 'mariner2',\n",
       " 'mess',\n",
       " 'messenger',\n",
       " 'mms1',\n",
       " 'mms2',\n",
       " 'mms3',\n",
       " 'mms4',\n",
       " 'mvn',\n",
       " 'new',\n",
       " 'noaa05',\n",
       " 'noaa06',\n",
       " 'noaa07',\n",
       " 'noaa08',\n",
       " 'noaa10',\n",
       " 'noaa12',\n",
       " 'noaa19',\n",
       " 'ohzora',\n",
       " 'om',\n",
       " 'pioneer10',\n",
       " 'pioneer11',\n",
       " 'pioneer6',\n",
       " 'pioneer7',\n",
       " 'po',\n",
       " 'prognoz10',\n",
       " 'psp',\n",
       " 'pvo',\n",
       " 'radiojove',\n",
       " 'rbsp-a',\n",
       " 'rbsp-a-rbspice',\n",
       " 'rbsp-b',\n",
       " 'rbsp-b-rbspice',\n",
       " 'rbspa',\n",
       " 'rbspb',\n",
       " 's1',\n",
       " 's2',\n",
       " 's3',\n",
       " 's9',\n",
       " 'sampex',\n",
       " 'sc',\n",
       " 'sl',\n",
       " 'sn',\n",
       " 'so',\n",
       " 'sofie',\n",
       " 'solar-orbiter',\n",
       " 'solo',\n",
       " 'splitvc0',\n",
       " 'splitvc3',\n",
       " 'spp',\n",
       " 'sscweb',\n",
       " 'sta',\n",
       " 'stb',\n",
       " 'stereo',\n",
       " 'sts01',\n",
       " 't1',\n",
       " 't2',\n",
       " 't3',\n",
       " 'test',\n",
       " 'tha',\n",
       " 'thb',\n",
       " 'thc',\n",
       " 'thd',\n",
       " 'the',\n",
       " 'themis',\n",
       " 'themis1',\n",
       " 'themis2',\n",
       " 'themis3',\n",
       " 'themis4',\n",
       " 'themis5',\n",
       " 'thg',\n",
       " 'timed',\n",
       " 'tss-1r',\n",
       " 'uy',\n",
       " 'vi',\n",
       " 'voyager-1',\n",
       " 'voyager-2',\n",
       " 'voyager1',\n",
       " 'voyager2',\n",
       " 'wi',\n",
       " 'wind',\n",
       " 'wt',\n",
       " 'xf',\n",
       " 'xi',\n",
       " 'xk',\n",
       " 'xs',\n",
       " 'xt',\n",
       " 'xv',\n",
       " 'za',\n",
       " 'zc',\n",
       " 'ze',\n",
       " 'zf',\n",
       " 'zh',\n",
       " 'zi',\n",
       " 'zk',\n",
       " 'zm',\n",
       " 'zn',\n",
       " 'zo',\n",
       " 'zr',\n",
       " 'zs',\n",
       " 'zw'}"
      ]
     },
     "execution_count": 12,
     "metadata": {},
     "output_type": "execute_result"
    }
   ],
   "execution_count": 12
  },
  {
   "metadata": {
    "ExecuteTime": {
     "end_time": "2024-05-02T15:29:44.021818Z",
     "start_time": "2024-05-02T15:29:44.018664Z"
    }
   },
   "cell_type": "code",
   "source": "'mms1_edp_brst_l2_hmfe_00000000_v01.cdf' in cda_ws_datasets",
   "id": "98822c00afd4b76",
   "outputs": [
    {
     "data": {
      "text/plain": [
       "True"
      ]
     },
     "execution_count": 29,
     "metadata": {},
     "output_type": "execute_result"
    }
   ],
   "execution_count": 29
  }
 ],
 "metadata": {
  "kernelspec": {
   "display_name": "Python 3",
   "language": "python",
   "name": "python3"
  },
  "language_info": {
   "codemirror_mode": {
    "name": "ipython",
    "version": 2
   },
   "file_extension": ".py",
   "mimetype": "text/x-python",
   "name": "python",
   "nbconvert_exporter": "python",
   "pygments_lexer": "ipython2",
   "version": "2.7.6"
  }
 },
 "nbformat": 4,
 "nbformat_minor": 5
}
